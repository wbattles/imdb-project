{
 "cells": [
  {
   "cell_type": "code",
   "execution_count": 14,
   "id": "851b3735",
   "metadata": {},
   "outputs": [],
   "source": [
    "%matplotlib inline\n",
    "from pathlib import Path\n",
    "\n",
    "import pandas as pd\n",
    "import numpy as np\n",
    "\n",
    "from sklearn.linear_model import LogisticRegression, LogisticRegressionCV\n",
    "from sklearn.model_selection import train_test_split\n",
    "from sklearn.naive_bayes import MultinomialNB\n",
    "from sklearn.metrics import accuracy_score\n",
    "from sklearn.preprocessing import StandardScaler\n",
    "\n",
    "import statsmodels.api as sm\n",
    "from mord import LogisticIT\n",
    "import matplotlib.pylab as plt\n",
    "import seaborn as sns\n",
    "from dmba import classificationSummary, gainsChart, liftChart\n",
    "from dmba.metric import AIC_score"
   ]
  },
  {
   "cell_type": "code",
   "execution_count": 15,
   "id": "d4841d2c",
   "metadata": {},
   "outputs": [],
   "source": [
    "imdb_df = pd.read_csv('projectData.csv')\n",
    "imdb_df = imdb_df.set_index('tconst')\n",
    "\n",
    "imdb_df = imdb_df.drop('numVotes', axis=1)\n",
    "imdb_df = imdb_df.drop('writers', axis=1)"
   ]
  },
  {
   "cell_type": "code",
   "execution_count": 16,
   "id": "fa3862d0",
   "metadata": {},
   "outputs": [],
   "source": [
    "genres_df = imdb_df['genres'].str.get_dummies(sep=',')\n",
    "genres_df = genres_df.add_prefix('genre_')\n",
    "imdb_df = pd.concat([imdb_df, genres_df], axis=1)\n",
    "imdb_df = imdb_df.drop('genres', axis=1)\n",
    "\n",
    "\n",
    "directors_df = imdb_df['directors'].str.get_dummies(sep=',')\n",
    "directors_df = directors_df.add_prefix('dir_')\n",
    "imdb_df = pd.concat([imdb_df, directors_df], axis=1)\n",
    "imdb_df = imdb_df.drop('directors', axis=1)\n",
    "\n",
    "\n",
    "actor_df = imdb_df['actor'].str.get_dummies(sep=',')\n",
    "actor_df = actor_df.add_prefix('actor_')\n",
    "imdb_df = pd.concat([imdb_df, actor_df], axis=1)\n",
    "imdb_df = imdb_df.drop('actor', axis=1)"
   ]
  },
  {
   "cell_type": "code",
   "execution_count": 17,
   "id": "9c84c89d",
   "metadata": {},
   "outputs": [
    {
     "data": {
      "text/html": [
       "<div>\n",
       "<style scoped>\n",
       "    .dataframe tbody tr th:only-of-type {\n",
       "        vertical-align: middle;\n",
       "    }\n",
       "\n",
       "    .dataframe tbody tr th {\n",
       "        vertical-align: top;\n",
       "    }\n",
       "\n",
       "    .dataframe thead th {\n",
       "        text-align: right;\n",
       "    }\n",
       "</style>\n",
       "<table border=\"1\" class=\"dataframe\">\n",
       "  <thead>\n",
       "    <tr style=\"text-align: right;\">\n",
       "      <th></th>\n",
       "      <th>runtimeMinutes</th>\n",
       "      <th>genre_Action</th>\n",
       "      <th>genre_Adventure</th>\n",
       "      <th>genre_Animation</th>\n",
       "      <th>genre_Biography</th>\n",
       "      <th>genre_Comedy</th>\n",
       "      <th>genre_Crime</th>\n",
       "      <th>genre_Documentary</th>\n",
       "      <th>genre_Drama</th>\n",
       "      <th>genre_Family</th>\n",
       "      <th>...</th>\n",
       "      <th>actor_nm9500254</th>\n",
       "      <th>actor_nm9503133</th>\n",
       "      <th>actor_nm9576872</th>\n",
       "      <th>actor_nm9858131</th>\n",
       "      <th>actor_nm9862858</th>\n",
       "      <th>actor_nm9877392</th>\n",
       "      <th>bin_Terrible</th>\n",
       "      <th>bin_Poor</th>\n",
       "      <th>bin_Average</th>\n",
       "      <th>bin_Excellent</th>\n",
       "    </tr>\n",
       "    <tr>\n",
       "      <th>tconst</th>\n",
       "      <th></th>\n",
       "      <th></th>\n",
       "      <th></th>\n",
       "      <th></th>\n",
       "      <th></th>\n",
       "      <th></th>\n",
       "      <th></th>\n",
       "      <th></th>\n",
       "      <th></th>\n",
       "      <th></th>\n",
       "      <th></th>\n",
       "      <th></th>\n",
       "      <th></th>\n",
       "      <th></th>\n",
       "      <th></th>\n",
       "      <th></th>\n",
       "      <th></th>\n",
       "      <th></th>\n",
       "      <th></th>\n",
       "      <th></th>\n",
       "      <th></th>\n",
       "    </tr>\n",
       "  </thead>\n",
       "  <tbody>\n",
       "    <tr>\n",
       "      <th>tt0035423</th>\n",
       "      <td>118</td>\n",
       "      <td>0</td>\n",
       "      <td>0</td>\n",
       "      <td>0</td>\n",
       "      <td>0</td>\n",
       "      <td>1</td>\n",
       "      <td>0</td>\n",
       "      <td>0</td>\n",
       "      <td>0</td>\n",
       "      <td>0</td>\n",
       "      <td>...</td>\n",
       "      <td>0</td>\n",
       "      <td>0</td>\n",
       "      <td>0</td>\n",
       "      <td>0</td>\n",
       "      <td>0</td>\n",
       "      <td>0</td>\n",
       "      <td>0</td>\n",
       "      <td>0</td>\n",
       "      <td>1</td>\n",
       "      <td>0</td>\n",
       "    </tr>\n",
       "    <tr>\n",
       "      <th>tt0118589</th>\n",
       "      <td>104</td>\n",
       "      <td>0</td>\n",
       "      <td>0</td>\n",
       "      <td>0</td>\n",
       "      <td>0</td>\n",
       "      <td>0</td>\n",
       "      <td>0</td>\n",
       "      <td>0</td>\n",
       "      <td>1</td>\n",
       "      <td>0</td>\n",
       "      <td>...</td>\n",
       "      <td>0</td>\n",
       "      <td>0</td>\n",
       "      <td>0</td>\n",
       "      <td>0</td>\n",
       "      <td>0</td>\n",
       "      <td>0</td>\n",
       "      <td>1</td>\n",
       "      <td>0</td>\n",
       "      <td>0</td>\n",
       "      <td>0</td>\n",
       "    </tr>\n",
       "    <tr>\n",
       "      <th>tt0118694</th>\n",
       "      <td>98</td>\n",
       "      <td>0</td>\n",
       "      <td>0</td>\n",
       "      <td>0</td>\n",
       "      <td>0</td>\n",
       "      <td>0</td>\n",
       "      <td>0</td>\n",
       "      <td>0</td>\n",
       "      <td>1</td>\n",
       "      <td>0</td>\n",
       "      <td>...</td>\n",
       "      <td>0</td>\n",
       "      <td>0</td>\n",
       "      <td>0</td>\n",
       "      <td>0</td>\n",
       "      <td>0</td>\n",
       "      <td>0</td>\n",
       "      <td>0</td>\n",
       "      <td>0</td>\n",
       "      <td>0</td>\n",
       "      <td>1</td>\n",
       "    </tr>\n",
       "    <tr>\n",
       "      <th>tt0120202</th>\n",
       "      <td>105</td>\n",
       "      <td>0</td>\n",
       "      <td>0</td>\n",
       "      <td>0</td>\n",
       "      <td>0</td>\n",
       "      <td>1</td>\n",
       "      <td>0</td>\n",
       "      <td>0</td>\n",
       "      <td>1</td>\n",
       "      <td>0</td>\n",
       "      <td>...</td>\n",
       "      <td>0</td>\n",
       "      <td>0</td>\n",
       "      <td>0</td>\n",
       "      <td>0</td>\n",
       "      <td>0</td>\n",
       "      <td>0</td>\n",
       "      <td>0</td>\n",
       "      <td>0</td>\n",
       "      <td>1</td>\n",
       "      <td>0</td>\n",
       "    </tr>\n",
       "    <tr>\n",
       "      <th>tt0120630</th>\n",
       "      <td>84</td>\n",
       "      <td>0</td>\n",
       "      <td>1</td>\n",
       "      <td>1</td>\n",
       "      <td>0</td>\n",
       "      <td>1</td>\n",
       "      <td>0</td>\n",
       "      <td>0</td>\n",
       "      <td>0</td>\n",
       "      <td>0</td>\n",
       "      <td>...</td>\n",
       "      <td>0</td>\n",
       "      <td>0</td>\n",
       "      <td>0</td>\n",
       "      <td>0</td>\n",
       "      <td>0</td>\n",
       "      <td>0</td>\n",
       "      <td>0</td>\n",
       "      <td>0</td>\n",
       "      <td>1</td>\n",
       "      <td>0</td>\n",
       "    </tr>\n",
       "  </tbody>\n",
       "</table>\n",
       "<p>5 rows × 4295 columns</p>\n",
       "</div>"
      ],
      "text/plain": [
       "           runtimeMinutes  genre_Action  genre_Adventure  genre_Animation  \\\n",
       "tconst                                                                      \n",
       "tt0035423             118             0                0                0   \n",
       "tt0118589             104             0                0                0   \n",
       "tt0118694              98             0                0                0   \n",
       "tt0120202             105             0                0                0   \n",
       "tt0120630              84             0                1                1   \n",
       "\n",
       "           genre_Biography  genre_Comedy  genre_Crime  genre_Documentary  \\\n",
       "tconst                                                                     \n",
       "tt0035423                0             1            0                  0   \n",
       "tt0118589                0             0            0                  0   \n",
       "tt0118694                0             0            0                  0   \n",
       "tt0120202                0             1            0                  0   \n",
       "tt0120630                0             1            0                  0   \n",
       "\n",
       "           genre_Drama  genre_Family  ...  actor_nm9500254  actor_nm9503133  \\\n",
       "tconst                                ...                                     \n",
       "tt0035423            0             0  ...                0                0   \n",
       "tt0118589            1             0  ...                0                0   \n",
       "tt0118694            1             0  ...                0                0   \n",
       "tt0120202            1             0  ...                0                0   \n",
       "tt0120630            0             0  ...                0                0   \n",
       "\n",
       "           actor_nm9576872  actor_nm9858131  actor_nm9862858  actor_nm9877392  \\\n",
       "tconst                                                                          \n",
       "tt0035423                0                0                0                0   \n",
       "tt0118589                0                0                0                0   \n",
       "tt0118694                0                0                0                0   \n",
       "tt0120202                0                0                0                0   \n",
       "tt0120630                0                0                0                0   \n",
       "\n",
       "           bin_Terrible  bin_Poor  bin_Average  bin_Excellent  \n",
       "tconst                                                         \n",
       "tt0035423             0         0            1              0  \n",
       "tt0118589             1         0            0              0  \n",
       "tt0118694             0         0            0              1  \n",
       "tt0120202             0         0            1              0  \n",
       "tt0120630             0         0            1              0  \n",
       "\n",
       "[5 rows x 4295 columns]"
      ]
     },
     "execution_count": 17,
     "metadata": {},
     "output_type": "execute_result"
    }
   ],
   "source": [
    "# define the bins\n",
    "bins = [0, 2.4, 5.0, 7.4, 10]\n",
    "\n",
    "# define the bin labels\n",
    "labels = ['Terrible', 'Poor', 'Average', 'Excellent']\n",
    "\n",
    "# create a new column with the bin labels\n",
    "imdb_df['binRating'] = pd.cut(imdb_df['averageRating'], bins=bins, labels=labels, include_lowest=True)\n",
    "\n",
    "imdb_df = imdb_df.drop('averageRating', axis=1)\n",
    "imdb_df = pd.get_dummies(imdb_df, columns=['binRating'], prefix='bin')\n",
    "imdb_df.head()"
   ]
  },
  {
   "cell_type": "code",
   "execution_count": 45,
   "id": "bd3abb60",
   "metadata": {},
   "outputs": [],
   "source": [
    "X = imdb_df.drop(['bin_Average', 'bin_Excellent', 'bin_Poor', 'bin_Terrible'], axis=1)\n",
    "y = imdb_df[['bin_Excellent']]\n",
    "\n",
    "X_train, X_test, y_train, y_test = train_test_split(X, y, test_size=0.4, random_state=102)"
   ]
  },
  {
   "cell_type": "code",
   "execution_count": 46,
   "id": "d577c6ec",
   "metadata": {},
   "outputs": [
    {
     "name": "stdout",
     "output_type": "stream",
     "text": [
      "Accuracy: 0.8346415489272632\n"
     ]
    },
    {
     "name": "stderr",
     "output_type": "stream",
     "text": [
      "/Users/wileybattles/opt/anaconda3/lib/python3.9/site-packages/sklearn/utils/validation.py:993: DataConversionWarning: A column-vector y was passed when a 1d array was expected. Please change the shape of y to (n_samples, ), for example using ravel().\n",
      "  y = column_or_1d(y, warn=True)\n"
     ]
    }
   ],
   "source": [
    "# Train the Naive Bayes classifier\n",
    "imdb_nb = MultinomialNB()\n",
    "imdb_nb.fit(X_train, y_train)\n",
    "\n",
    "# Make predictions on the testing set\n",
    "y_pred = imdb_nb.predict(X_test)\n",
    "\n",
    "# Evaluate the performance of the model\n",
    "accuracy = accuracy_score(y_test, y_pred)\n",
    "print(f\"Accuracy: {accuracy}\")"
   ]
  },
  {
   "cell_type": "code",
   "execution_count": 47,
   "id": "e7c61331",
   "metadata": {},
   "outputs": [],
   "source": [
    "# predict probabilities\n",
    "predProb_train = imdb_nb.predict_proba(X_train)\n",
    "predProb_test = imdb_nb.predict_proba(X_test)\n",
    "\n",
    "# predict class membership\n",
    "y_test_pred = imdb_nb.predict(X_test)\n",
    "y_train_pred = imdb_nb.predict(X_train)"
   ]
  },
  {
   "cell_type": "code",
   "execution_count": 48,
   "id": "8902d11d",
   "metadata": {},
   "outputs": [
    {
     "name": "stdout",
     "output_type": "stream",
     "text": [
      "Confusion Matrix (Accuracy 0.8311)\n",
      "\n",
      "       Prediction\n",
      "Actual    0    1\n",
      "     0 2348    1\n",
      "     1  483   34\n",
      "Confusion Matrix (Accuracy 0.8346)\n",
      "\n",
      "       Prediction\n",
      "Actual    0    1\n",
      "     0 1584    7\n",
      "     1  309   11\n"
     ]
    }
   ],
   "source": [
    "classificationSummary(y_train, y_train_pred) \n",
    "\n",
    "classificationSummary(y_test, y_test_pred) "
   ]
  },
  {
   "cell_type": "code",
   "execution_count": 49,
   "id": "7a9ccdb7",
   "metadata": {},
   "outputs": [
    {
     "data": {
      "image/png": "[encoded data removed]",
      "text/plain": [
       "<Figure size 640x480 with 1 Axes>"
      ]
     },
     "metadata": {},
     "output_type": "display_data"
    }
   ],
   "source": [
    "import scikitplot as skplt\n",
    "from scikitplot.helpers import cumulative_gain_curve\n",
    "\n",
    "skplt.metrics.plot_cumulative_gain(y_test, predProb_test)\n",
    "plt.title('Naive Bayes, Cumulative Gains Chart')\n",
    "plt.show()"
   ]
  },
  {
   "cell_type": "code",
   "execution_count": 55,
   "id": "1c1219d7",
   "metadata": {
    "scrolled": true
   },
   "outputs": [
    {
     "name": "stdout",
     "output_type": "stream",
     "text": [
      "MSE: 0.16535845107273678\n",
      "RMSE: 0.4066429036301221\n"
     ]
    }
   ],
   "source": [
    "from sklearn.metrics import mean_squared_error\n",
    "from math import sqrt\n",
    "\n",
    "# Predict the labels for the testing set\n",
    "imdb_nb_pred = imdb_nb.predict(X_test)\n",
    "\n",
    "# Calculate the mean squared error (MSE) and root mean squared error (RMSE)\n",
    "mse = mean_squared_error(y_test, imdb_nb_pred)\n",
    "rmse = sqrt(mse)\n",
    "\n",
    "print(f\"MSE: {mse}\")\n",
    "print(f\"RMSE: {rmse}\")"
   ]
  },
  {
   "cell_type": "code",
   "execution_count": 50,
   "id": "f0171af4",
   "metadata": {
    "scrolled": false
   },
   "outputs": [
    {
     "name": "stdout",
     "output_type": "stream",
     "text": [
      "              precision    recall  f1-score   support\n",
      "\n",
      "           0       0.84      1.00      0.91      1591\n",
      "           1       0.61      0.03      0.07       320\n",
      "\n",
      "    accuracy                           0.83      1911\n",
      "   macro avg       0.72      0.51      0.49      1911\n",
      "weighted avg       0.80      0.83      0.77      1911\n",
      "\n",
      "[[1584    7]\n",
      " [ 309   11]]\n"
     ]
    }
   ],
   "source": [
    "from sklearn.metrics import classification_report, confusion_matrix\n",
    "\n",
    "print(classification_report(y_test, y_pred))\n",
    "print(confusion_matrix(y_test, y_pred))"
   ]
  },
  {
   "cell_type": "code",
   "execution_count": null,
   "id": "a77e4783",
   "metadata": {},
   "outputs": [],
   "source": []
  }
 ],
 "metadata": {
  "kernelspec": {
   "display_name": "Python 3 (ipykernel)",
   "language": "python",
   "name": "python3"
  },
  "language_info": {
   "codemirror_mode": {
    "name": "ipython",
    "version": 3
   },
   "file_extension": ".py",
   "mimetype": "text/x-python",
   "name": "python",
   "nbconvert_exporter": "python",
   "pygments_lexer": "ipython3",
   "version": "3.9.13"
  }
 },
 "nbformat": 4,
 "nbformat_minor": 5
}
