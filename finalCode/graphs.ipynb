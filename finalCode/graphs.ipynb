{
 "cells": [
  {
   "cell_type": "code",
   "execution_count": 134,
   "id": "59e70dbe",
   "metadata": {},
   "outputs": [
    {
     "data": {
      "image/png": "[encoded data removed]",
      "text/plain": [
       "<Figure size 600x350 with 1 Axes>"
      ]
     },
     "metadata": {},
     "output_type": "display_data"
    }
   ],
   "source": [
    "import pandas as pd\n",
    "import matplotlib.pyplot as plt\n",
    "\n",
    "# Create a dictionary with the data\n",
    "data = {\"Models\": [\"Logistic Regression\", \"Naive Bayes\", \"Bagging\", \"Random Forest\"],\n",
    "        \"Scores\": [84.1, 83.8, 84.4, 84.7]}\n",
    "\n",
    "# Create a DataFrame from the dictionary\n",
    "df = pd.DataFrame(data)\n",
    "\n",
    "colors = ['#4e79a7', '#f28e2b', '#e15759', '#76b7b2']\n",
    "\n",
    "# Create the chart\n",
    "ax = df.plot(kind=\"bar\", x=\"Models\", y=\"Scores\", color=colors, \n",
    "             ylim=[80, 85.5], legend=False, width=0.5, figsize=(6,3.5))\n",
    "\n",
    "# Set the chart title and axis labels\n",
    "ax.set_title(\"Classification Accuracy %\")\n",
    "ax.set_xlabel(\"\")\n",
    "ax.set_ylabel(\"\")\n",
    "ax.set_yticks([])\n",
    "\n",
    "# Rotate the x-axis labels\n",
    "ax.set_xticklabels(df[\"Models\"], rotation=0)\n",
    "\n",
    "# Display the values on top of the bars\n",
    "for i, score in enumerate(df[\"Scores\"]):\n",
    "    ax.text(i, score+0.2, str(score), horizontalalignment=\"center\")\n",
    "\n",
    "# Show the chart\n",
    "plt.show()\n"
   ]
  },
  {
   "cell_type": "code",
   "execution_count": 108,
   "id": "d0d0767b",
   "metadata": {
    "scrolled": false
   },
   "outputs": [],
   "source": [
    "imdb_df = pd.read_csv('projectData.csv')\n",
    "imdb_df = imdb_df.set_index('tconst')\n",
    "\n",
    "imdb_df = imdb_df.drop('numVotes', axis=1)\n",
    "imdb_df = imdb_df.drop('writers', axis=1)"
   ]
  },
  {
   "cell_type": "code",
   "execution_count": 109,
   "id": "a9ada72c",
   "metadata": {},
   "outputs": [
    {
     "data": {
      "text/html": [
       "<div>\n",
       "<style scoped>\n",
       "    .dataframe tbody tr th:only-of-type {\n",
       "        vertical-align: middle;\n",
       "    }\n",
       "\n",
       "    .dataframe tbody tr th {\n",
       "        vertical-align: top;\n",
       "    }\n",
       "\n",
       "    .dataframe thead th {\n",
       "        text-align: right;\n",
       "    }\n",
       "</style>\n",
       "<table border=\"1\" class=\"dataframe\">\n",
       "  <thead>\n",
       "    <tr style=\"text-align: right;\">\n",
       "      <th></th>\n",
       "      <th>runtimeMinutes</th>\n",
       "      <th>genres</th>\n",
       "      <th>directors</th>\n",
       "      <th>actor</th>\n",
       "      <th>bin_Terrible</th>\n",
       "      <th>bin_Poor</th>\n",
       "      <th>bin_Average</th>\n",
       "      <th>bin_Excellent</th>\n",
       "    </tr>\n",
       "    <tr>\n",
       "      <th>tconst</th>\n",
       "      <th></th>\n",
       "      <th></th>\n",
       "      <th></th>\n",
       "      <th></th>\n",
       "      <th></th>\n",
       "      <th></th>\n",
       "      <th></th>\n",
       "      <th></th>\n",
       "    </tr>\n",
       "  </thead>\n",
       "  <tbody>\n",
       "    <tr>\n",
       "      <th>tt0035423</th>\n",
       "      <td>118</td>\n",
       "      <td>Comedy,Fantasy,Romance</td>\n",
       "      <td>nm0003506</td>\n",
       "      <td>nm0000212</td>\n",
       "      <td>0</td>\n",
       "      <td>0</td>\n",
       "      <td>1</td>\n",
       "      <td>0</td>\n",
       "    </tr>\n",
       "    <tr>\n",
       "      <th>tt0118589</th>\n",
       "      <td>104</td>\n",
       "      <td>Drama,Music,Romance</td>\n",
       "      <td>nm0193554</td>\n",
       "      <td>nm0001014</td>\n",
       "      <td>1</td>\n",
       "      <td>0</td>\n",
       "      <td>0</td>\n",
       "      <td>0</td>\n",
       "    </tr>\n",
       "    <tr>\n",
       "      <th>tt0118694</th>\n",
       "      <td>98</td>\n",
       "      <td>Drama,Romance</td>\n",
       "      <td>nm0939182</td>\n",
       "      <td>nm0504897</td>\n",
       "      <td>0</td>\n",
       "      <td>0</td>\n",
       "      <td>0</td>\n",
       "      <td>1</td>\n",
       "    </tr>\n",
       "    <tr>\n",
       "      <th>tt0120202</th>\n",
       "      <td>105</td>\n",
       "      <td>Comedy,Drama</td>\n",
       "      <td>nm0000519</td>\n",
       "      <td>nm0000450</td>\n",
       "      <td>0</td>\n",
       "      <td>0</td>\n",
       "      <td>1</td>\n",
       "      <td>0</td>\n",
       "    </tr>\n",
       "    <tr>\n",
       "      <th>tt0120630</th>\n",
       "      <td>84</td>\n",
       "      <td>Adventure,Animation,Comedy</td>\n",
       "      <td>nm0520485,nm0661910</td>\n",
       "      <td>nm0000154</td>\n",
       "      <td>0</td>\n",
       "      <td>0</td>\n",
       "      <td>1</td>\n",
       "      <td>0</td>\n",
       "    </tr>\n",
       "  </tbody>\n",
       "</table>\n",
       "</div>"
      ],
      "text/plain": [
       "           runtimeMinutes                      genres            directors  \\\n",
       "tconst                                                                       \n",
       "tt0035423             118      Comedy,Fantasy,Romance            nm0003506   \n",
       "tt0118589             104         Drama,Music,Romance            nm0193554   \n",
       "tt0118694              98               Drama,Romance            nm0939182   \n",
       "tt0120202             105                Comedy,Drama            nm0000519   \n",
       "tt0120630              84  Adventure,Animation,Comedy  nm0520485,nm0661910   \n",
       "\n",
       "               actor  bin_Terrible  bin_Poor  bin_Average  bin_Excellent  \n",
       "tconst                                                                    \n",
       "tt0035423  nm0000212             0         0            1              0  \n",
       "tt0118589  nm0001014             1         0            0              0  \n",
       "tt0118694  nm0504897             0         0            0              1  \n",
       "tt0120202  nm0000450             0         0            1              0  \n",
       "tt0120630  nm0000154             0         0            1              0  "
      ]
     },
     "execution_count": 109,
     "metadata": {},
     "output_type": "execute_result"
    }
   ],
   "source": [
    "# define the bins\n",
    "bins = [0, 2.4, 5.0, 7.4, 10]\n",
    "\n",
    "# define the bin labels\n",
    "labels = ['Terrible', 'Poor', 'Average', 'Excellent']\n",
    "\n",
    "# create a new column with the bin labels\n",
    "imdb_df['binRating'] = pd.cut(imdb_df['averageRating'], bins=bins, labels=labels, include_lowest=True)\n",
    "\n",
    "imdb_df = imdb_df.drop('averageRating', axis=1)\n",
    "imdb_df = pd.get_dummies(imdb_df, columns=['binRating'], prefix='bin')\n",
    "imdb_df.head()"
   ]
  },
  {
   "cell_type": "code",
   "execution_count": 135,
   "id": "9e983816",
   "metadata": {},
   "outputs": [
    {
     "name": "stderr",
     "output_type": "stream",
     "text": [
      "/var/folders/d4/ypbwpx292519124yys2bmqwh0000gn/T/ipykernel_21593/2285712829.py:13: UserWarning: FixedFormatter should only be used together with FixedLocator\n",
      "  ax.set_xticklabels([\"Terrible\", \"Poor\", \"Excellent\", \"Average\"])\n"
     ]
    },
    {
     "data": {
      "image/png": "[encoded data removed]",
      "text/plain": [
       "<Figure size 600x350 with 1 Axes>"
      ]
     },
     "metadata": {},
     "output_type": "display_data"
    }
   ],
   "source": [
    "# Define a list of colors\n",
    "colors = ['#9ad3ff','#7fbce1','#6695c2','#4c6e9f']\n",
    "\n",
    "# Create a bar chart with the colors\n",
    "fig, ax = plt.subplots(figsize=(6,3.5))\n",
    "ax.bar(bin_counts.index, bin_counts.values, color=colors, width=0.5)\n",
    "\n",
    "# Set the chart title and axis labels\n",
    "ax.set_title(\"Number of Movies in Each Bin\")\n",
    "ax.set_xlabel(\"\")\n",
    "ax.set_ylabel(\"Count\")\n",
    "\n",
    "ax.set_xticklabels([\"Terrible\", \"Poor\", \"Excellent\", \"Average\"])\n",
    "\n",
    "# Show the chart\n",
    "plt.show()\n"
   ]
  },
  {
   "cell_type": "code",
   "execution_count": null,
   "id": "c0cd9b8d",
   "metadata": {},
   "outputs": [],
   "source": []
  }
 ],
 "metadata": {
  "kernelspec": {
   "display_name": "Python 3 (ipykernel)",
   "language": "python",
   "name": "python3"
  },
  "language_info": {
   "codemirror_mode": {
    "name": "ipython",
    "version": 3
   },
   "file_extension": ".py",
   "mimetype": "text/x-python",
   "name": "python",
   "nbconvert_exporter": "python",
   "pygments_lexer": "ipython3",
   "version": "3.9.13"
  }
 },
 "nbformat": 4,
 "nbformat_minor": 5
}
